{
 "cells": [
  {
   "cell_type": "markdown",
   "metadata": {},
   "source": [
    "# Navigation\n",
    "\n",
    "---\n",
    "\n",
    "In this notebook, you will learn how to use the Unity ML-Agents environment for the first project of the [Deep Reinforcement Learning Nanodegree](https://www.udacity.com/course/deep-reinforcement-learning-nanodegree--nd893).\n",
    "\n",
    "### 1. Start the Environment\n",
    "\n",
    "We begin by importing some necessary packages.  If the code cell below returns an error, please revisit the project instructions to double-check that you have installed [Unity ML-Agents](https://github.com/Unity-Technologies/ml-agents/blob/master/docs/Installation.md) and [NumPy](http://www.numpy.org/)."
   ]
  },
  {
   "cell_type": "code",
   "execution_count": 1,
   "metadata": {},
   "outputs": [],
   "source": [
    "from unityagents import UnityEnvironment\n",
    "import numpy as np\n",
    "from time import sleep\n",
    "import time\n",
    "from collections import deque\n",
    "import matplotlib.pyplot as plt\n",
    "%matplotlib inline\n",
    "from dqn_agent import Agent"
   ]
  },
  {
   "cell_type": "markdown",
   "metadata": {},
   "source": [
    "Environments contain **_brains_** which are responsible for deciding the actions of their associated agents. Here we check for the first brain available, and set it as the default brain we will be controlling from Python."
   ]
  },
  {
   "cell_type": "code",
   "execution_count": 2,
   "metadata": {},
   "outputs": [
    {
     "name": "stderr",
     "output_type": "stream",
     "text": [
      "INFO:unityagents:\n",
      "'Academy' started successfully!\n",
      "Unity Academy name: Academy\n",
      "        Number of Brains: 1\n",
      "        Number of External Brains : 1\n",
      "        Lesson number : 0\n",
      "        Reset Parameters :\n",
      "\t\t\n",
      "Unity brain name: BananaBrain\n",
      "        Number of Visual Observations (per agent): 0\n",
      "        Vector Observation space type: continuous\n",
      "        Vector Observation space size (per agent): 37\n",
      "        Number of stacked Vector Observation: 1\n",
      "        Vector Action space type: discrete\n",
      "        Vector Action space size (per agent): 4\n",
      "        Vector Action descriptions: , , , \n"
     ]
    }
   ],
   "source": [
    "env = UnityEnvironment(file_name=\"Banana.app\")\n",
    "brain_name = env.brain_names[0]\n",
    "brain = env.brains[brain_name]                    # get the default brain\n",
    "action_size = brain.vector_action_space_size\n",
    "state_size = brain.vector_observation_space_size\n",
    "\n",
    "agent = Agent(state_size=state_size, action_size=action_size, seed=0)"
   ]
  },
  {
   "cell_type": "code",
   "execution_count": 3,
   "metadata": {},
   "outputs": [
    {
     "name": "stdout",
     "output_type": "stream",
     "text": [
      "Episode 100\tAverage Score: 0.33\tScore Variance: 2.28\n",
      "Episode 200\tAverage Score: 3.51\tScore Variance: 7.39\n",
      "Episode 300\tAverage Score: 5.91\tScore Variance: 9.16\n",
      "Episode 400\tAverage Score: 8.13\tScore Variance: 14.09\n",
      "Episode 500\tAverage Score: 8.07\tScore Variance: 22.97\n",
      "Episode 600\tAverage Score: 8.53\tScore Variance: 21.43\n",
      "Episode 700\tAverage Score: 11.73\tScore Variance: 17.26\n",
      "Episode 740\tAverage Score: 13.08\n",
      "Environment solved in 740 episodes!\tAverage Score: 13.08\n",
      "Continuing to learn\n",
      "Episode 800\tAverage Score: 13.42\tScore Variance: 12.78\n",
      "Episode 900\tAverage Score: 13.45\tScore Variance: 17.23\n",
      "Episode 1000\tAverage Score: 14.57\tScore Variance: 14.81\n",
      "Episode 1100\tAverage Score: 14.88\tScore Variance: 12.85\n",
      "Episode 1200\tAverage Score: 14.92\tScore Variance: 14.61\n",
      "Episode 1300\tAverage Score: 14.85\tScore Variance: 13.87\n",
      "Episode 1400\tAverage Score: 15.37\tScore Variance: 17.11\n",
      "Episode 1500\tAverage Score: 14.91\tScore Variance: 11.20\n",
      "Episode 1600\tAverage Score: 15.07\tScore Variance: 14.53\n",
      "Episode 1700\tAverage Score: 15.39\tScore Variance: 13.26\n",
      "Episode 1800\tAverage Score: 15.75\tScore Variance: 11.85\n",
      "Episode 1900\tAverage Score: 15.61\tScore Variance: 12.24\n",
      "Episode 2000\tAverage Score: 15.10\tScore Variance: 11.91\n",
      "\n",
      "Final Model had Average Score: 15.10.  Saving model to: final.pth\n",
      "\n",
      "\n",
      "total train time:  1669.865140914917\n"
     ]
    },
    {
     "data": {
      "image/png": "[encoded data removed]",
      "text/plain": [
       "<Figure size 432x288 with 1 Axes>"
      ]
     },
     "metadata": {
      "needs_background": "light"
     },
     "output_type": "display_data"
    }
   ],
   "source": [
    "def dqn(n_episodes=2000, max_t=1000):\n",
    "    \"\"\"Deep Q-Learning.\n",
    "    \n",
    "    Params\n",
    "    ======\n",
    "        n_episodes (int): maximum number of training episodes\n",
    "        max_t (int): maximum number of timesteps per episode\n",
    "    Constants\n",
    "    ======\n",
    "        AVE_SCORE_TARGET (int): the average of scores in SCORE_WINDOW, above which we consider the problem solved\n",
    "        SCORE_WINDOW_SIZE (int): number of scores to average over\n",
    "    \"\"\"\n",
    "    SCORE_WINDOW_SIZE = 100\n",
    "    AVE_SCORE_TARGET = 13\n",
    "    solved = False                                         # do we have a solution yet?\n",
    "    best_score = 0                                         # what's our best average score?\n",
    "    break_on_first_solution = False                        # bail as soon as we meet criteria?\n",
    "    scores = []                                            # list containing scores from each episode\n",
    "    variances = []                                         # I want to see the variance of scores in score wind\n",
    "    scores_window = deque(maxlen=SCORE_WINDOW_SIZE)        # last 100 scores\n",
    "    \n",
    "    for i_episode in range(1, n_episodes+1):\n",
    "        env_info = env.reset(train_mode=True)[brain_name]  # reset the environment\n",
    "        state = env_info.vector_observations[0]            # get the current state\n",
    "        score = 0\n",
    "        for t in range(max_t):\n",
    "            action = agent.get_action(state)               # get action to take\n",
    "            env_info = env.step(action)[brain_name]        # send the action to the environment\n",
    "            next_state = env_info.vector_observations[0]   # get the next state\n",
    "            reward = env_info.rewards[0]                   # get the reward\n",
    "            done = env_info.local_done[0]                  # see if episode has finished\n",
    "            agent.step(state, action, reward, next_state, done)\n",
    "            state = next_state\n",
    "            score += reward\n",
    "            if done:\n",
    "                break \n",
    "        scores_window.append(score)       # save most recent score\n",
    "        scores.append(score)              # save most recent score\n",
    "        avg_score = np.mean(scores_window)\n",
    "        \n",
    "        print('\\rEpisode {}\\tAverage Score: {:.2f}'.format(i_episode, avg_score), end=\"\")\n",
    "        \n",
    "        if i_episode % SCORE_WINDOW_SIZE == 0:\n",
    "            print('\\rEpisode {}\\tAverage Score: {:.2f}\\tScore Variance: {:.2f}'.format(i_episode, avg_score, np.var(scores_window)))\n",
    "            \n",
    "        if avg_score >= AVE_SCORE_TARGET and not solved:\n",
    "            solved = True\n",
    "            best_score = avg_score\n",
    "            print('\\nEnvironment solved in {:d} episodes!\\tAverage Score: {:.2f}'.format(i_episode, avg_score))\n",
    "            agent.save_policy('checkpoint.pth')\n",
    "            if break_on_first_solution:\n",
    "                break\n",
    "            else:\n",
    "                print('Continuing to learn')\n",
    "    \n",
    "    if avg_score > best_score:\n",
    "        print('\\nFinal Model had Average Score: {:.2f}.  Saving model to: final.pth'.format(avg_score))\n",
    "        agent.save_policy('final.pth')\n",
    "    return scores\n",
    "\n",
    "st = time.time()\n",
    "scores = dqn()\n",
    "print(\"\\n\\ntotal train time: \", time.time() - st)\n",
    "\n",
    "# plot the scores\n",
    "fig = plt.figure()\n",
    "ax = fig.add_subplot(111)\n",
    "plt.plot(np.arange(len(scores)), scores)\n",
    "plt.ylabel('Score')\n",
    "plt.xlabel('Episode #')\n",
    "plt.show()"
   ]
  },
  {
   "cell_type": "markdown",
   "metadata": {},
   "source": [
    "When finished, you can close the environment."
   ]
  },
  {
   "cell_type": "code",
   "execution_count": 4,
   "metadata": {},
   "outputs": [],
   "source": [
    "env.close()"
   ]
  }
 ],
 "metadata": {
  "kernelspec": {
   "display_name": "p1_navigation",
   "language": "python",
   "name": "p1_navigation"
  },
  "language_info": {
   "codemirror_mode": {
    "name": "ipython",
    "version": 3
   },
   "file_extension": ".py",
   "mimetype": "text/x-python",
   "name": "python",
   "nbconvert_exporter": "python",
   "pygments_lexer": "ipython3",
   "version": "3.6.15"
  }
 },
 "nbformat": 4,
 "nbformat_minor": 2
}
